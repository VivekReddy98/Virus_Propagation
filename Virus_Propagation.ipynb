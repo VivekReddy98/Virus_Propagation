{
 "cells": [
  {
   "cell_type": "code",
   "execution_count": 1,
   "metadata": {
    "collapsed": true
   },
   "outputs": [],
   "source": [
    "from utils.GenerateGraphMatrices import GenerateGraphMatrices, StrengthAlter\n",
    "from utils.Simulator import Simulator\n",
    "from utils.ImmunizationPolicies import Policy\n",
    "import json, os, math, scipy\n",
    "import matplotlib.pyplot as plt\n",
    "import numpy as np\n",
    "import networkx as nx\n",
    "%matplotlib inline"
   ]
  },
  {
   "cell_type": "code",
   "execution_count": 2,
   "metadata": {
    "collapsed": true
   },
   "outputs": [],
   "source": [
    "home_dir = os.environ['GDMPATH']+'/'\n",
    "data_dir = \"datasets/\"\n",
    "results_dir = \"results/\"\n",
    "with open(home_dir+\"hyper_params.json\") as f:\n",
    "    hyper = json.load(f)"
   ]
  },
  {
   "cell_type": "code",
   "execution_count": null,
   "metadata": {
    "collapsed": true
   },
   "outputs": [],
   "source": [
    "def plot_beta(G1, G2, alpha):\n",
    "    beta = [i/100 for i in range(1,100,2)]\n",
    "    axis = [i for i in range(0, len(beta))]\n",
    "    EffStren = []\n",
    "    check=True\n",
    "    for i in axis:\n",
    "        S1 = G1.GenSystemMatrix(alpha, beta[i])\n",
    "        S2 = G1.GenSystemMatrix(alpha, beta[i])\n",
    "        EffStren.append(abs(StrengthAlter(S1, S2).value(n=1)[0]))\n",
    "        if (EffStren[i] > 1.0 and check==True):\n",
    "            print(\"Minimum Transmisssion Probablity for an Epidemic is {}\".format(beta[i]))\n",
    "            check=False\n",
    "    plt.plot(beta, EffStren)\n",
    "    plt.title('Effective Strength plot by varying Transmission Probablity (Under Hp={})'.format(alpha))\n",
    "    plt.axhline(y=1,linestyle='--',linewidth=3,color='red')\n",
    "    plt.xlabel(\"Transmission Probability -->\")\n",
    "    plt.ylabel(\"Effective Strength Value -->\")\n",
    "    plt.show()\n",
    "    return None\n",
    "\n",
    "def plot_alpha(G1, G2, beta):\n",
    "    alpha = [i/100 for i in range(1,100, 2)]\n",
    "    axis = [i for i in range(0, len(alpha))]\n",
    "    print(len(alpha), len(axis))\n",
    "    EffStren = []\n",
    "    check=True\n",
    "    for i in axis:\n",
    "        S1 = G1.GenSystemMatrix(alpha[i], beta)\n",
    "        S2 = G1.GenSystemMatrix(alpha[i], beta)\n",
    "        EffStren.append(abs(StrengthAlter(S1, S2).value(n=1)[0]))\n",
    "        if (EffStren[i] < 1.0 and check==True):\n",
    "            print(\"Maximum Healing Probablity for an Epidemic is {}\".format(alpha[i]))\n",
    "            check=False\n",
    "    plt.plot(alpha, EffStren)\n",
    "    plt.title('Effective Strength plot by varying Healing Probablity (Under Tp={})'.format(beta))\n",
    "    plt.axhline(y=1,linestyle='--',linewidth=3,color='red')\n",
    "    plt.xlabel(\"Healing Probability -->\")\n",
    "    plt.ylabel(\"Effective Strength Value -->\")\n",
    "    plt.show()\n",
    "    return EffStren"
   ]
  },
  {
   "cell_type": "code",
   "execution_count": null,
   "metadata": {
    "collapsed": true
   },
   "outputs": [],
   "source": [
    "G1 = GenerateGraphMatrices()\n",
    "G1.GenGraphObj(EdgeFilePath=home_dir+data_dir+\"alternating/alternating1.network\")\n",
    "\n",
    "G2 = GenerateGraphMatrices()\n",
    "G2.GenGraphObj(EdgeFilePath=home_dir+data_dir+\"alternating/alternating2.network\")\n",
    "\n",
    "S11 = G1.GenSystemMatrix(hyper['alpha']['1'], hyper['beta']['1'])\n",
    "S12 = G2.GenSystemMatrix(hyper['alpha']['1'], hyper['beta']['2'])\n",
    "EffStren1 = StrengthAlter(S11, S11).value(n=1)\n",
    "\n",
    "S21 = G2.GenSystemMatrix(hyper['alpha']['2'], hyper['beta']['2'])\n",
    "S22 = G2.GenSystemMatrix(hyper['alpha']['2'], hyper['beta']['2'])\n",
    "EffStren2 = StrengthAlter(S12, S22).value(n=1)\n",
    "\n",
    "# print('Note: Tp => Transmission Probability, Hp => Healing Probability')\n",
    "# print(\"\\n\")\n",
    "# print('Using Tp1 : {}, Tp2 : {}'.format(hyper['beta']['1'], hyper['beta']['2']))\n",
    "# print('Effective Strength: {}'.format(abs(EffStren1[0])))\n",
    "# print(\"\\n\")\n",
    "# print('Using Hp1 : {}, Hp2 : {}'.format(hyper['alpha']['1'], hyper['alpha']['2']))\n",
    "# print('Effective Strength: {}'.format(abs(EffStren2[0])))\n",
    "\n",
    "plot_beta(G1, G2, alpha=0.70)\n",
    "plot_beta(G1, G2, alpha=0.20)\n",
    "plot_alpha(G1, G2, beta=0.20)\n",
    "plot_alpha(G1, G2, beta=0.01)"
   ]
  },
  {
   "cell_type": "code",
   "execution_count": 3,
   "metadata": {},
   "outputs": [
    {
     "name": "stdout",
     "output_type": "stream",
     "text": [
      "Simulation has been completed\n",
      "Simulation has been completed\n",
      "Simulation has been completed\n",
      "Simulation has been completed\n",
      "Simulation has been completed\n",
      "Simulation has been completed\n",
      "Simulation has been completed\n",
      "Simulation has been completed\n",
      "Simulation has been completed\n",
      "Simulation has been completed\n",
      "(10, 101)\n"
     ]
    },
    {
     "data": {
      "image/png": "[encoded data removed]",
      "text/plain": [
       "<Figure size 432x288 with 1 Axes>"
      ]
     },
     "metadata": {
      "needs_background": "light"
     },
     "output_type": "display_data"
    }
   ],
   "source": [
    "A1 = home_dir+\"datasets/alternating/alternating1.network\"\n",
    "A2 = home_dir+\"datasets/alternating/alternating2.network\"\n",
    "Simulate = Simulator(A1, A2, results_dir)\n",
    "Results = []\n",
    "for i in range(0,10):\n",
    "    Simulate.start(100, float(hyper['alpha']['1']), float(hyper['beta']['1']))\n",
    "    Results.append(list(list(Simulate.give_stats().values())[0].values()))\n",
    "arr = np.array(Results)\n",
    "print(arr.shape)\n",
    "arr = np.average(arr, axis=0)\n",
    "plt.plot([i for i in range(1, arr.shape[0]+1)], arr.tolist())\n",
    "plt.title('Simulation Results for Tp:{}, Hp:{}'.format(hyper['beta']['1'], hyper['alpha']['1']))\n",
    "plt.xlabel(\"TimeSteps -->\")\n",
    "plt.ylabel(\"Fraction of Nodes Infected -->\")\n",
    "plt.show()"
   ]
  },
  {
   "cell_type": "code",
   "execution_count": null,
   "metadata": {
    "collapsed": true
   },
   "outputs": [],
   "source": [
    "A1 = home_dir+\"datasets/alternating/alternating1.network\"\n",
    "A2 = home_dir+\"datasets/alternating/alternating2.network\"\n",
    "Simulate = Simulator(A1, A2, results_dir)\n",
    "Results = []\n",
    "for i in range(0,10):\n",
    "    Simulate.start(100, float(hyper['alpha']['2']), float(hyper['beta']['2']))\n",
    "    Results.append(list(list(Simulate.give_stats().values())[0].values()))\n",
    "arr = np.array(Results)\n",
    "arr = np.average(arr, axis=0)\n",
    "plt.plot([i for i in range(1, arr.shape[0]+1)], arr.tolist())\n",
    "plt.title('Simulation Results for Tp:{}, Hp:{}'.format(hyper['beta']['2'], hyper['alpha']['2']))\n",
    "plt.xlabel(\"TimeSteps -->\")\n",
    "plt.ylabel(\"Fraction of Nodes Infected -->\")\n",
    "plt.show()"
   ]
  },
  {
   "cell_type": "code",
   "execution_count": 4,
   "metadata": {
    "collapsed": true
   },
   "outputs": [],
   "source": [
    "def custom(G1, G2, alpha, beta):\n",
    "    Adj1 = nx.to_scipy_sparse_matrix(G1, format='csc')\n",
    "    Adj2 = nx.to_scipy_sparse_matrix(G2, format='csc')\n",
    "    Identity = scipy.sparse.identity(G1.number_of_nodes(), format='csc')\n",
    "    S1 = Identity.multiply(1-float(alpha)) + Adj1.multiply(float(beta))\n",
    "    S2 = Identity.multiply(1-float(alpha)) + Adj2.multiply(float(beta))\n",
    "    return StrengthAlter(S1, S2).value()"
   ]
  },
  {
   "cell_type": "code",
   "execution_count": 5,
   "metadata": {},
   "outputs": [
    {
     "name": "stdout",
     "output_type": "stream",
     "text": [
      "Simulation has been completed\n",
      "..........................................Policy A...........................................................\n",
      "Before Immunization: 459\n",
      "After Immunization: 447\n",
      "[77.67849589]\n",
      "..........................................Policy B...........................................................\n",
      "Before Immunization: 459\n",
      "After Immunization: 424\n",
      "[1.08098485]\n",
      "..........................................Policy C...........................................................\n",
      "Before Immunization: 459\n",
      "200 271\n",
      "After Immunization: 425\n",
      "[1.04681282]\n",
      "..........................................Policy D...........................................................\n",
      "Before Immunization: 459\n",
      "After Immunization: 436\n",
      "[55.4157022]\n"
     ]
    }
   ],
   "source": [
    "# Finding Effective Sterength after Immunization:\n",
    "results_dir = home_dir+\"results/sim_results\"\n",
    "A1 = home_dir+\"datasets/alternating/alternating1.network\"\n",
    "A2 = home_dir+\"datasets/alternating/alternating2.network\"\n",
    "\n",
    "Simulate = Simulator(A1, A2, results_dir)\n",
    "Simulate.initialize()\n",
    "infected_nodes = Simulate.start(100, float(hyper['alpha']['1']), float(hyper['beta']['1']))\n",
    "\n",
    "print(\"..........................................Policy A...........................................................\")\n",
    "\n",
    "Immunize = Policy(A1, A2, results_dir)\n",
    "Immunize.A(200, float(hyper['alpha']['1']), float(hyper['beta']['1']), infected_nodes, results_dir, 20)\n",
    "G1 = Immunize.Graph1\n",
    "G2 = Immunize.Graph2\n",
    "print(abs(custom(G1, G2, float(hyper['alpha']['1']), float(hyper['beta']['1']))))\n",
    "\n",
    "print(\"..........................................Policy B...........................................................\")\n",
    "\n",
    "Immunize = Policy(A1, A2, results_dir)\n",
    "Immunize.B(200, float(hyper['alpha']['1']), float(hyper['beta']['1']), infected_nodes, results_dir, 20)\n",
    "G1 = Immunize.Graph1\n",
    "G2 = Immunize.Graph2\n",
    "print(abs(custom(G1, G2, float(hyper['alpha']['1']), float(hyper['beta']['1']))))\n",
    "\n",
    "print(\"..........................................Policy C...........................................................\")\n",
    "\n",
    "Immunize = Policy(A1, A2, results_dir)\n",
    "Immunize.C(200, float(hyper['alpha']['1']), float(hyper['beta']['1']), infected_nodes, results_dir, 20)\n",
    "G1 = Immunize.Graph1\n",
    "G2 = Immunize.Graph2\n",
    "print(abs(custom(G1, G2, float(hyper['alpha']['1']), float(hyper['beta']['1']))))\n",
    "\n",
    "print(\"..........................................Policy D...........................................................\")\n",
    "\n",
    "Immunize = Policy(A1, A2, results_dir)\n",
    "Immunize.D(200, float(hyper['alpha']['1']), float(hyper['beta']['1']), infected_nodes, results_dir, 20)\n",
    "G1 = Immunize.Graph1\n",
    "G2 = Immunize.Graph2\n",
    "print(abs(custom(G1, G2, float(hyper['alpha']['1']), float(hyper['beta']['1']))))"
   ]
  },
  {
   "cell_type": "code",
   "execution_count": 6,
   "metadata": {},
   "outputs": [
    {
     "name": "stdout",
     "output_type": "stream",
     "text": [
      "Simulation has been completed\n"
     ]
    }
   ],
   "source": [
    "A1 = home_dir+\"datasets/alternating/alternating1.network\"\n",
    "A2 = home_dir+\"datasets/alternating/alternating2.network\"\n",
    "Simulate = Simulator(A1, A2, results_dir)\n",
    "infected_nodes = Simulate.start(100, float(hyper['alpha']['1']), float(hyper['beta']['1']))"
   ]
  },
  {
   "cell_type": "code",
   "execution_count": 15,
   "metadata": {},
   "outputs": [
    {
     "name": "stdout",
     "output_type": "stream",
     "text": [
      "Before Immunization: 468\n",
      "After Immunization: 451\n",
      "Before Immunization: 468\n",
      "After Immunization: 444\n",
      "Before Immunization: 468\n",
      "After Immunization: 442\n",
      "Before Immunization: 468\n",
      "After Immunization: 432\n",
      "Before Immunization: 468\n",
      "After Immunization: 426\n",
      "Before Immunization: 468\n",
      "After Immunization: 425\n",
      "Before Immunization: 468\n",
      "After Immunization: 380\n",
      "Before Immunization: 468\n",
      "After Immunization: 466\n",
      "Before Immunization: 468\n",
      "After Immunization: 413\n",
      "Before Immunization: 468\n",
      "After Immunization: 457\n",
      "Before Immunization: 468\n",
      "After Immunization: 349\n",
      "Before Immunization: 468\n",
      "After Immunization: 457\n",
      "Before Immunization: 468\n",
      "After Immunization: 388\n",
      "Before Immunization: 468\n",
      "After Immunization: 340\n",
      "Before Immunization: 468\n",
      "After Immunization: 386\n",
      "Before Immunization: 468\n",
      "After Immunization: 385\n",
      "Before Immunization: 468\n",
      "After Immunization: 389\n",
      "Before Immunization: 468\n",
      "After Immunization: 367\n",
      "Before Immunization: 468\n",
      "After Immunization: 445\n",
      "Before Immunization: 468\n",
      "After Immunization: 444\n",
      "Before Immunization: 468\n",
      "After Immunization: 365\n",
      "Before Immunization: 468\n",
      "After Immunization: 346\n",
      "Before Immunization: 468\n",
      "After Immunization: 249\n",
      "Before Immunization: 468\n",
      "After Immunization: 426\n",
      "Before Immunization: 468\n",
      "After Immunization: 343\n",
      "Before Immunization: 468\n",
      "After Immunization: 300\n",
      "Before Immunization: 468\n",
      "After Immunization: 217\n",
      "Before Immunization: 468\n",
      "After Immunization: 215\n",
      "Before Immunization: 468\n",
      "After Immunization: 394\n",
      "Before Immunization: 468\n",
      "After Immunization: 204\n",
      "Before Immunization: 468\n",
      "After Immunization: 199\n",
      "Before Immunization: 468\n",
      "After Immunization: 287\n",
      "Before Immunization: 468\n",
      "After Immunization: 280\n",
      "Before Immunization: 468\n",
      "After Immunization: 265\n",
      "Before Immunization: 468\n",
      "After Immunization: 296\n",
      "Before Immunization: 468\n",
      "After Immunization: 280\n",
      "Before Immunization: 468\n",
      "After Immunization: 283\n",
      "Before Immunization: 468\n",
      "After Immunization: 139\n",
      "Before Immunization: 468\n",
      "After Immunization: 338\n"
     ]
    },
    {
     "data": {
      "image/png": "[encoded data removed]",
      "text/plain": [
       "<Figure size 432x288 with 1 Axes>"
      ]
     },
     "metadata": {
      "needs_background": "light"
     },
     "output_type": "display_data"
    }
   ],
   "source": [
    "Results = []\n",
    "axis = []\n",
    "for k in range(100,4000,100):\n",
    "    Immunize = Policy(A1, A2, results_dir)\n",
    "    Immunize.D(k, float(hyper['alpha']['1']), float(hyper['beta']['1']), infected_nodes, results_dir, 20)\n",
    "    G1 = Immunize.Graph1\n",
    "    G2 = Immunize.Graph2\n",
    "    try:\n",
    "        Results.append(abs(custom(G1, G2, float(hyper['alpha']['1']), float(hyper['beta']['1'])))[0])\n",
    "        axis.append(k)\n",
    "    except:\n",
    "        print(\"Failed for the value k : \" + str(k))\n",
    "plt.plot(axis, Results)\n",
    "plt.title('Largest Eigen Value Using Policy D by varying k (Under Tp: {}, Hp: {})'.format(hyper['beta']['1'], hyper['alpha']['1']))\n",
    "plt.xlabel(\"Number of Vaccines for Immunization-->\")\n",
    "plt.ylabel(\"Largest Eigen Value -->\")\n",
    "plt.axhline(y=1,linestyle='--',linewidth=2,color='red')\n",
    "plt.show()"
   ]
  },
  {
   "cell_type": "code",
   "execution_count": 12,
   "metadata": {},
   "outputs": [
    {
     "name": "stdout",
     "output_type": "stream",
     "text": [
      "[2.3087104808836485, 1.080984850158616, 0.799286484130749, 0.6739968588206169, 0.5917125590357122, 0.5784441020371199, 0.5419772982141716, 0.48999999999999905, 0.48358344003390047, 0.4835834400339007, 0.4835834400338997, 0.4835834400338991, 0.4835834400338985, 0.3467122967388296, 0.34671229673883086, 0.3467122967388309, 0.3467122967388301, 0.34671229673883, 0.34671229673883075]\n"
     ]
    }
   ],
   "source": [
    "print(Results)"
   ]
  },
  {
   "cell_type": "code",
   "execution_count": null,
   "metadata": {},
   "outputs": [],
   "source": [
    "print(axis)"
   ]
  },
  {
   "cell_type": "code",
   "execution_count": null,
   "metadata": {
    "collapsed": true
   },
   "outputs": [],
   "source": []
  }
 ],
 "metadata": {
  "kernelspec": {
   "display_name": "Python 3",
   "language": "python",
   "name": "python3"
  },
  "language_info": {
   "codemirror_mode": {
    "name": "ipython",
    "version": 3
   },
   "file_extension": ".py",
   "mimetype": "text/x-python",
   "name": "python",
   "nbconvert_exporter": "python",
   "pygments_lexer": "ipython3",
   "version": "3.5.2"
  }
 },
 "nbformat": 4,
 "nbformat_minor": 2
}
